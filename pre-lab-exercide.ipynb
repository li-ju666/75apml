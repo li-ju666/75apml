{
 "cells": [
  {
   "cell_type": "markdown",
   "id": "530b2f27",
   "metadata": {},
   "source": [
    "## Section 3:  Preparatory exercises"
   ]
  },
  {
   "cell_type": "markdown",
   "id": "059bc6a2",
   "metadata": {},
   "source": [
    "### Q. 1"
   ]
  },
  {
   "cell_type": "markdown",
   "id": "11c0b96d",
   "metadata": {},
   "source": [
    "Considering that $p(\\mathbf{z}) = \\mathcal{N} (\\mathbf{z}; \\mathbf{0}, \\mathbf{I}_M)$ and $p(\\mathbf{x} | \\mathbf{z}) = \\mathcal{N}(\\mathbf{x}; \\mathbf{Wz} + \\mathbf{\\mu}, \\sigma^2\\mathbf{I}_D)$\n",
    "\n",
    "use Corollary 2 in lecture 2, the marginal distribution of $\\mathbf{x}$ is given by \n",
    "\n",
    "<center>$p(\\mathbf{x}) = \\mathcal{N}(\\mathbf{x}; \\mathbf{\\mu_x}, \\Sigma_x)$</center>\n",
    "\n",
    "where\n",
    "\n",
    "<center>$\\mu_x = \\mathbf{W0}+\\mathbf{\\mu} = \\mathbf{\\mu}$</center>\n",
    "\n",
    "and <center>$\\Sigma_x = \\sigma^2\\mathbf{I}_D + \\mathbf{W}\\mathbf{I}_M\\mathbf{W}^T = \\sigma^2\\mathbf{I}_D + \\mathbf{W}\\mathbf{W}^T$</center>"
   ]
  },
  {
   "cell_type": "markdown",
   "id": "c9ed4d9a",
   "metadata": {},
   "source": [
    "### Q. 2"
   ]
  },
  {
   "cell_type": "markdown",
   "id": "6058935f",
   "metadata": {},
   "source": [
    "Considering that $p(\\mathbf{z}) = \\mathcal{N} (\\mathbf{z}; \\mathbf{0}, \\mathbf{I}_M)$ and $p(\\mathbf{x} | \\mathbf{z}) = \\mathcal{N}(\\mathbf{x}; \\mathbf{Wz} + \\mathbf{\\mu}, \\sigma^2\\mathbf{I}_D)$\n",
    "\n",
    "use Corollary 1 in lecture 2, the conditonal distribution of $\\mathbf{z}$ on $\\mathbf{x}$ is given by \n",
    "\n",
    "<center>$p(\\mathbf{z}|\\mathbf{x}) = \\mathcal{N}(\\mathbf{z}; \\mu_{\\mathbf{z}|\\mathbf{x}}, \\Sigma_{\\mathbf{z} | \\mathbf{x}})$</center>\n",
    "\n",
    "where <center>$\\mu_{\\mathbf{z}|\\mathbf{x}} = \\Sigma_{\\mathbf{z} | \\mathbf{x}}(\\mathbf{I}_M^{-1}\\mathbf{0} + \\mathbf{W}^T \\sigma^{-2}\\mathbf{I}_D(\\mathbf{x} - \\mathbf{\\mu})) = \\mathbf{M}^{-1}\\mathbf{W}^T(\\mathbf{x} - \\mathbf{\\mu})$</center>\n",
    "\n",
    "<center>$\\Sigma_{\\mathbf{z} | \\mathbf{x}} = (\\mathbf{I}_M + \\mathbf{W}^T \\sigma^{-2}\\mathbf{I}_D\\mathbf{W})^{-1} = \\sigma^2\\mathbf{M}^{-1}$</center>\n",
    "\n",
    "and <center>$\\mathbf{M} = \\mathbf{W}^T\\mathbf{W} + \\sigma^2\\mathbf{I}_M$</center>"
   ]
  },
  {
   "cell_type": "markdown",
   "id": "e27004a7",
   "metadata": {},
   "source": [
    "### Q. 3"
   ]
  },
  {
   "cell_type": "markdown",
   "id": "c709b18a",
   "metadata": {},
   "source": [
    "According to the definition of Kullback-Leibler divergence, \n",
    "\n",
    "$$\\begin{align}\n",
    "\\text{KL}(q_{\\phi}(\\mathbf{z}; \\mathbf{x}) \\| p_{\\theta}(\\mathbf{z})) \n",
    "=& \\int_{-\\infty}^{\\infty} q_{\\phi}(\\mathbf{z}; \\mathbf{x})\\log \\frac{q_{phi}(\\mathbf{z}; \\mathbf{x})}{p_{\\theta(\\mathbf{z})}} \n",
    "= \\int \\dots \\int_{-\\infty}^{\\infty} \\prod_{i=1}^{M} \\mathcal{N}(z_i; \\mu_{\\phi}(\\mathbf{x})_i, \\sigma^2_{\\phi}(\\mathbf{x})_i) \\log \\frac{\\prod_{i=1}^{M} \\mathcal{N}(z_i; \\mu_{\\phi}(\\mathbf{x})_i, \\sigma^2_{\\phi}(\\mathbf{x})_i)}\n",
    "           {\\prod_{i=1}^{M} \\mathcal{N}(z_i; 0, 1)} dz_1 dz_2 \\dots dz_M\\\\\n",
    "=& \\int \\dots \\int^{\\infty}_{-\\infty}\\mathcal{N}(z_1; \\mu_{\\phi}(\\mathbf{x})_1, \\sigma^2_{\\phi}(\\mathbf{x})_1)\n",
    "                                      q_{\\phi}(z_2, \\dots z_M)\n",
    "   \\left(\\log \\frac{\\mathcal{N}(z_1; \\mu_{\\phi}(\\mathbf{x})_1, \\sigma^2_{\\phi}(\\mathbf{x})_1)}{\\mathcal{N}(z_1; 0, 1)} + \n",
    "   \\log \\frac{q_{\\phi}(z_2, \\dots z_M)}{p_{\\theta}(z2, \\dots z_M)}\\right)dz_1 dz_2 \\dots dz_M\\\\\n",
    "=& \\int^{\\infty}_{-\\infty} \\mathcal{N}(z_1; \\mu_{\\phi}(\\mathbf{x})_1, \\sigma^2_{\\phi}(\\mathbf{x})_1) \\log \\frac {\\mathcal{N}(z_1; \\mu_{\\phi}(\\mathbf{x})_1, \\sigma^2_{\\phi}(\\mathbf{x})_1)} {\\mathcal{N}(z_1; 0, 1)} dz_1 + \n",
    "\\int \\dots \\int^{\\infty}_{-\\infty} q_{\\phi}(z_2, \\dots z_M) \\log \\frac{q_{\\phi}(z_2, \\dots z_M)}{p_{\\theta}(z2, \\dots z_M)}dz_2 dz_3\\dots dz_M\\\\\n",
    "=& \\text{KL}(q_{\\phi}(z_1; \\mathbf{x}) \\| p_{\\theta}(z_1)) + \n",
    "\\int \\dots \\int^{\\infty}_{-\\infty} q_{\\phi}(z_2, \\dots z_M) \\log \\frac{q_{\\phi}(z_2, \\dots z_M)}{p_{\\theta}(z2, \\dots z_M)}dz_2 dz_3\\dots dz_M\\\\\n",
    "=& \\sum_{i=1}^{M} \\text{KL}(q_{\\phi}(z_i; \\mathbf{x}) \\| p_{\\theta}(z_i)) \n",
    "\\end{align}$$\n",
    "where\n",
    "$$\n",
    "q_{\\phi}(z_2, \\dots z_M) := \\prod_{i=2}^{M} \\mathcal{N}(z_i; \\mu_{\\phi}(\\mathbf{x})_i, \\sigma^2_{\\phi}(\\mathbf{x})_i)\\\\\n",
    "p_{\\theta}(z2, \\dots z_M) := \\prod_{i=2}^{M} \\mathcal{N}(z_i; 0, 1)\n",
    "$$"
   ]
  },
  {
   "cell_type": "markdown",
   "id": "2e86dcb5",
   "metadata": {},
   "source": [
    "Then\n",
    "$$\n",
    "\\begin{align}\n",
    "\\text{KL}(q_{\\phi}(z_1; \\mathbf{x}) \\| p_{\\theta}(z_1))\n",
    "=& \\int^{\\infty}_{-\\infty} \\mathcal{N}(z_1; \\mu_{\\phi}(\\mathbf{x})_1, \\sigma^2_{\\phi}(\\mathbf{x})_1) \\log \\frac {\\mathcal{N}(z_1; \\mu_{\\phi}(\\mathbf{x})_1, \\sigma^2_{\\phi}(\\mathbf{x})_1)} {\\mathcal{N}(z_1; 0, 1)} dz_1 \\\\\n",
    "=& \\int^{\\infty}_{-\\infty} \\mathcal{N}(z_1; \\mu_{\\phi}(\\mathbf{x})_1, \\sigma^2_{\\phi}(\\mathbf{x})_1) \\left(\n",
    "    \\log \\mathcal{N}(z_1; \\mu_{\\phi}(\\mathbf{x})_1, \\sigma^2_{\\phi}(\\mathbf{x})_1) - \n",
    "    \\log \\mathcal{N}(z_1; 0, 1) \\right)dz_1 \\\\\n",
    "=& \\frac{1}{2}\\int^{\\infty}_{-\\infty} \\mathcal{N}(z_1; \\mu_{\\phi}(\\mathbf{x})_1, \\sigma^2_{\\phi}(\\mathbf{x})_1) \\left(\n",
    "    -\\log \\sigma^2_{\\phi}(\\mathbf{x})_1 - \n",
    "    \\frac{(z_1 - \\mu_{\\phi}(\\mathbf{x})_1)^2}{\\sigma^2_{\\phi}(\\mathbf{x})_1} + \n",
    "    z_1^2 \\right) dz_1 \\\\\n",
    "=& \\frac{1}{2}(-\\log \\sigma^2_{\\phi}(\\mathbf{x})_1 -1 + \\sigma^2_{\\phi}(\\mathbf{x})_1 + \\mu_{\\phi}(\\mathbf{x})_1^2)\n",
    "\\end{align}\n",
    "$$\n",
    "By generalizing the derivation of $\\text{KL}(q_{\\phi}(z_1; \\mathbf{x}) \\| p_{\\theta}(z_1)) $ to all $\\text{KL}(q_{\\phi}(z_i; \\mathbf{x}) \\| p_{\\theta}(z_i)) $ for all $1 \\leq i \\leq M$, we obtain \n",
    "$$\n",
    "\\text{KL}(q_{\\phi}(\\mathbf{z}; \\mathbf{x}) \\| p_{\\theta}(\\mathbf{z})) = \\frac{1}{2}\\sum_{i=1}^{M} ((-\\log \\sigma^2_{\\phi}(\\mathbf{x})_i -1 + \\sigma^2_{\\phi}(\\mathbf{x})_i + \\mu_{\\phi}(\\mathbf{x})_i^2))\n",
    "$$"
   ]
  },
  {
   "cell_type": "code",
   "execution_count": null,
   "id": "a86987e8",
   "metadata": {},
   "outputs": [],
   "source": []
  }
 ],
 "metadata": {
  "kernelspec": {
   "display_name": "Python 3 (ipykernel)",
   "language": "python",
   "name": "python3"
  },
  "language_info": {
   "codemirror_mode": {
    "name": "ipython",
    "version": 3
   },
   "file_extension": ".py",
   "mimetype": "text/x-python",
   "name": "python",
   "nbconvert_exporter": "python",
   "pygments_lexer": "ipython3",
   "version": "3.10.6"
  }
 },
 "nbformat": 4,
 "nbformat_minor": 5
}
